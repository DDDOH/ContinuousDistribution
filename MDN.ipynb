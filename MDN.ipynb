{
 "cells": [
  {
   "cell_type": "code",
   "execution_count": 4,
   "id": "diverse-creek",
   "metadata": {},
   "outputs": [],
   "source": [
    "import matplotlib.pyplot as plt\n",
    "import numpy as np\n",
    "import torch\n",
    "import torch.nn as nn\n",
    "from torch.autograd import Variable"
   ]
  },
  {
   "cell_type": "code",
   "execution_count": 3,
   "id": "august-sensitivity",
   "metadata": {},
   "outputs": [],
   "source": [
    "class GaussianMixture:\n",
    "    def __init__(self, weight_ls, mean_ls, cov_ls):\n",
    "        self.n_components = len(weight_ls)\n",
    "        self.dim = np.shape(mean_ls)[1]\n",
    "        self.weight_ls = weight_ls\n",
    "        self.mean_ls = mean_ls\n",
    "        self.cov_ls = cov_ls\n",
    "        \n",
    "    def sample(self, n_sample):\n",
    "        sample_ls = np.zeros((n_sample, self.dim))\n",
    "        for i in range(n_sample):\n",
    "            which_component = np.random.choice(self.n_components,p=self.weight_ls)\n",
    "            one_training_sample = np.random.multivariate_normal(mean=self.mean_ls[which_component,:], cov=self.cov_ls[which_component])\n",
    "            sample_ls[i,:] = one_training_sample\n",
    "        self.n_sample = n_sample\n",
    "        self.sample_ls = sample_ls\n",
    "        return sample_ls\n"
   ]
  },
  {
   "cell_type": "code",
   "execution_count": 13,
   "id": "revolutionary-update",
   "metadata": {
    "scrolled": true
   },
   "outputs": [
    {
     "ename": "IndexError",
     "evalue": "tuple index out of range",
     "output_type": "error",
     "traceback": [
      "\u001b[1;31m---------------------------------------------------------------------------\u001b[0m",
      "\u001b[1;31mIndexError\u001b[0m                                Traceback (most recent call last)",
      "\u001b[1;32m<ipython-input-13-b9a85805fc09>\u001b[0m in \u001b[0;36m<module>\u001b[1;34m\u001b[0m\n\u001b[1;32m----> 1\u001b[1;33m \u001b[0mmodel\u001b[0m \u001b[1;33m=\u001b[0m \u001b[0mGaussianMixture\u001b[0m\u001b[1;33m(\u001b[0m\u001b[1;33m(\u001b[0m\u001b[1;36m3\u001b[0m\u001b[1;33m,\u001b[0m\u001b[1;36m1\u001b[0m\u001b[1;33m)\u001b[0m\u001b[1;33m,\u001b[0m\u001b[1;36m3\u001b[0m\u001b[1;33m,\u001b[0m\u001b[1;36m9\u001b[0m\u001b[1;33m)\u001b[0m\u001b[1;33m\u001b[0m\u001b[1;33m\u001b[0m\u001b[0m\n\u001b[0m\u001b[0;32m      2\u001b[0m \u001b[0mmodel\u001b[0m\u001b[1;33m.\u001b[0m\u001b[0msample\u001b[0m\u001b[1;33m(\u001b[0m\u001b[1;36m10\u001b[0m\u001b[1;33m)\u001b[0m\u001b[1;33m\u001b[0m\u001b[1;33m\u001b[0m\u001b[0m\n",
      "\u001b[1;32m<ipython-input-6-004c0cc31fc2>\u001b[0m in \u001b[0;36m__init__\u001b[1;34m(self, weight_ls, mean_ls, cov_ls)\u001b[0m\n\u001b[0;32m      2\u001b[0m     \u001b[1;32mdef\u001b[0m \u001b[0m__init__\u001b[0m\u001b[1;33m(\u001b[0m\u001b[0mself\u001b[0m\u001b[1;33m,\u001b[0m \u001b[0mweight_ls\u001b[0m\u001b[1;33m,\u001b[0m \u001b[0mmean_ls\u001b[0m\u001b[1;33m,\u001b[0m \u001b[0mcov_ls\u001b[0m\u001b[1;33m)\u001b[0m\u001b[1;33m:\u001b[0m\u001b[1;33m\u001b[0m\u001b[1;33m\u001b[0m\u001b[0m\n\u001b[0;32m      3\u001b[0m         \u001b[0mself\u001b[0m\u001b[1;33m.\u001b[0m\u001b[0mn_components\u001b[0m \u001b[1;33m=\u001b[0m \u001b[0mlen\u001b[0m\u001b[1;33m(\u001b[0m\u001b[0mweight_ls\u001b[0m\u001b[1;33m)\u001b[0m\u001b[1;33m\u001b[0m\u001b[1;33m\u001b[0m\u001b[0m\n\u001b[1;32m----> 4\u001b[1;33m         \u001b[0mself\u001b[0m\u001b[1;33m.\u001b[0m\u001b[0mdim\u001b[0m \u001b[1;33m=\u001b[0m \u001b[0mnp\u001b[0m\u001b[1;33m.\u001b[0m\u001b[0mshape\u001b[0m\u001b[1;33m(\u001b[0m\u001b[0mmean_ls\u001b[0m\u001b[1;33m)\u001b[0m\u001b[1;33m[\u001b[0m\u001b[1;36m1\u001b[0m\u001b[1;33m]\u001b[0m\u001b[1;33m\u001b[0m\u001b[1;33m\u001b[0m\u001b[0m\n\u001b[0m\u001b[0;32m      5\u001b[0m         \u001b[0mself\u001b[0m\u001b[1;33m.\u001b[0m\u001b[0mweight_ls\u001b[0m \u001b[1;33m=\u001b[0m \u001b[0mweight_ls\u001b[0m\u001b[1;33m\u001b[0m\u001b[1;33m\u001b[0m\u001b[0m\n\u001b[0;32m      6\u001b[0m         \u001b[0mself\u001b[0m\u001b[1;33m.\u001b[0m\u001b[0mmean_ls\u001b[0m \u001b[1;33m=\u001b[0m \u001b[0mmean_ls\u001b[0m\u001b[1;33m\u001b[0m\u001b[1;33m\u001b[0m\u001b[0m\n",
      "\u001b[1;31mIndexError\u001b[0m: tuple index out of range"
     ]
    }
   ],
   "source": [
    "#不太会取数\n",
    "n_components = 5\n",
    "dim = 10\n",
    "weight_ls = np.array([0.2, 0.1, 0.3, 0.3, 0.1])\n",
    "mean_ls = np.random.uniform(20,30,size=n_components)\n",
    "cov_ls = []\n",
    "for i in range(n_components):\n",
    "    i_cov = np.random.\n",
    "    cov_ls.append()\n",
    "model = GaussianMixture(weight_ls=weight_ls, )"
   ]
  },
  {
   "cell_type": "code",
   "execution_count": null,
   "id": "respective-division",
   "metadata": {},
   "outputs": [],
   "source": [
    "class MDN(nn.Module):\n",
    "    def __init__(self, n_hidden, n_gaussians):\n",
    "        super(MDN, self).__init__()\n",
    "        self.z_h = nn.Sequential(\n",
    "            nn.Linear(1,n_hidden),\n",
    "            nn.Tanh()\n",
    "        )\n",
    "        self.z_pi = nn.Linear(n_hidden, n_gaussians)\n",
    "        self.z_sigma = nn.Linear(n_hidden, n_gaussians)\n",
    "        self.z_mu = nn.Linear(n_hidden, n_gaussians)\n",
    "        \n",
    "    def forward(self, x):\n",
    "        z_h = self.z_h(x)\n",
    "        pi = nn.functional.softmax(self.z_pi(z_h), -1)\n",
    "        sigma = torch.exp(self.z_sigma(z_h))\n",
    "        mu = self.z_mu(z_h)\n",
    "        return pi, sigma, mu\n",
    "    \n",
    "def gaussian_distribution(y, mu, sigma):\n",
    "    result = (y.expand_as(mu) - mu) * torch.reciprocal(sigma)\n",
    "    result = -0.5*(result * result)\n",
    "    return torch.exp(result)*torch.reciprocal(sigma)\n",
    "\n",
    "def mdn_loss_fn(pi, sigma, mu, y):\n",
    "    result = gaussian_distribution(y, mu, sigma)*pi\n",
    "    result = torch.sum(result, dim=1)\n",
    "    result = -torch.log(result)\n",
    "    return torch.mean(result)"
   ]
  },
  {
   "cell_type": "code",
   "execution_count": null,
   "id": "naughty-fireplace",
   "metadata": {},
   "outputs": [],
   "source": [
    "network = MDN(n_hidden=20, n_gaussians=5)\n",
    "optimizer = torch.optim.Adam(network.parameters())\n",
    "#set the data\n"
   ]
  },
  {
   "cell_type": "code",
   "execution_count": null,
   "id": "thirty-clarity",
   "metadata": {},
   "outputs": [],
   "source": [
    "def train_mdn():\n",
    "    for epoch in range(2000):\n",
    "        #经过神经网络\n",
    "        loss  = mdn_loss_fn()\n",
    "        optimizer.zero_grad()\n",
    "        loss.backward()\n",
    "        optimizer.step()\n",
    "        \n",
    "train_mdn()"
   ]
  }
 ],
 "metadata": {
  "kernelspec": {
   "display_name": "Python 3",
   "language": "python",
   "name": "python3"
  },
  "language_info": {
   "codemirror_mode": {
    "name": "ipython",
    "version": 3
   },
   "file_extension": ".py",
   "mimetype": "text/x-python",
   "name": "python",
   "nbconvert_exporter": "python",
   "pygments_lexer": "ipython3",
   "version": "3.7.7"
  }
 },
 "nbformat": 4,
 "nbformat_minor": 5
}